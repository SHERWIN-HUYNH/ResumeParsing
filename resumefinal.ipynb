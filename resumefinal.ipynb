{
 "cells": [
  {
   "cell_type": "code",
   "execution_count": 1,
   "id": "0f1586fa",
   "metadata": {
    "execution": {
     "iopub.execute_input": "2025-05-27T16:22:04.707415Z",
     "iopub.status.busy": "2025-05-27T16:22:04.707154Z",
     "iopub.status.idle": "2025-05-27T16:22:13.037077Z",
     "shell.execute_reply": "2025-05-27T16:22:13.036272Z"
    },
    "papermill": {
     "duration": 8.335858,
     "end_time": "2025-05-27T16:22:13.038594",
     "exception": false,
     "start_time": "2025-05-27T16:22:04.702736",
     "status": "completed"
    },
    "tags": []
   },
   "outputs": [],
   "source": [
    "import spacy\n",
    "from spacy.tokens import DocBin\n",
    "from tqdm import tqdm\n",
    "import json"
   ]
  },
  {
   "cell_type": "markdown",
   "id": "222a166d",
   "metadata": {
    "papermill": {
     "duration": 0.002573,
     "end_time": "2025-05-27T16:22:13.044393",
     "exception": false,
     "start_time": "2025-05-27T16:22:13.041820",
     "status": "completed"
    },
    "tags": []
   },
   "source": [
    "**DATASET UNDERSTANDING**"
   ]
  },
  {
   "cell_type": "code",
   "execution_count": 2,
   "id": "ac173982",
   "metadata": {
    "execution": {
     "iopub.execute_input": "2025-05-27T16:22:13.050733Z",
     "iopub.status.busy": "2025-05-27T16:22:13.050371Z",
     "iopub.status.idle": "2025-05-27T16:22:13.071259Z",
     "shell.execute_reply": "2025-05-27T16:22:13.070765Z"
    },
    "papermill": {
     "duration": 0.025234,
     "end_time": "2025-05-27T16:22:13.072361",
     "exception": false,
     "start_time": "2025-05-27T16:22:13.047127",
     "status": "completed"
    },
    "tags": []
   },
   "outputs": [],
   "source": [
    "json_file_path = '/kaggle/input/input-275/train_data.json'\n",
    "with open(json_file_path, \"r\", encoding=\"utf-8\") as f:\n",
    "    cv_data = json.load(f)"
   ]
  },
  {
   "cell_type": "code",
   "execution_count": 3,
   "id": "576873d9",
   "metadata": {
    "execution": {
     "iopub.execute_input": "2025-05-27T16:22:13.078719Z",
     "iopub.status.busy": "2025-05-27T16:22:13.078499Z",
     "iopub.status.idle": "2025-05-27T16:22:13.082777Z",
     "shell.execute_reply": "2025-05-27T16:22:13.082026Z"
    },
    "papermill": {
     "duration": 0.008791,
     "end_time": "2025-05-27T16:22:13.083927",
     "exception": false,
     "start_time": "2025-05-27T16:22:13.075136",
     "status": "completed"
    },
    "tags": []
   },
   "outputs": [
    {
     "name": "stdout",
     "output_type": "stream",
     "text": [
      "Total documents: 200\n"
     ]
    }
   ],
   "source": [
    "if isinstance(cv_data, list):\n",
    "    docs = cv_data\n",
    "elif isinstance(cv_data, dict):\n",
    "    docs = [cv_data]\n",
    "else:\n",
    "    raise ValueError(\"Unsupported JSON file format.\")\n",
    "num_docs = len(docs)\n",
    "print(f\"Total documents: {num_docs}\")"
   ]
  },
  {
   "cell_type": "code",
   "execution_count": 4,
   "id": "39ca03d6",
   "metadata": {
    "execution": {
     "iopub.execute_input": "2025-05-27T16:22:13.090052Z",
     "iopub.status.busy": "2025-05-27T16:22:13.089850Z",
     "iopub.status.idle": "2025-05-27T16:22:13.095517Z",
     "shell.execute_reply": "2025-05-27T16:22:13.094825Z"
    },
    "papermill": {
     "duration": 0.009842,
     "end_time": "2025-05-27T16:22:13.096558",
     "exception": false,
     "start_time": "2025-05-27T16:22:13.086716",
     "status": "completed"
    },
    "tags": []
   },
   "outputs": [
    {
     "data": {
      "text/plain": [
       "['Govardhana K Senior Software Engineer  Bengaluru, Karnataka, Karnataka - Email me on Indeed: indeed.com/r/Govardhana-K/ b2de315d95905b68  Total IT experience 5 Years 6 Months Cloud Lending Solutions INC 4 Month • Salesforce Developer Oracle 5 Years 2 Month • Core Java Developer Languages Core Java, Go Lang Oracle PL-SQL programming, Sales Force Developer with APEX.  Designations & Promotions  Willing to relocate: Anywhere  WORK EXPERIENCE  Senior Software Engineer  Cloud Lending Solutions -  Bangalore, Karnataka -  January 2018 to Present  Present  Senior Consultant  Oracle -  Bangalore, Karnataka -  November 2016 to December 2017  Staff Consultant  Oracle -  Bangalore, Karnataka -  January 2014 to October 2016  Associate Consultant  Oracle -  Bangalore, Karnataka -  November 2012 to December 2013  EDUCATION  B.E in Computer Science Engineering  Adithya Institute of Technology -  Tamil Nadu  September 2008 to June 2012  https://www.indeed.com/r/Govardhana-K/b2de315d95905b68?isid=rex-download&ikw=download-top&co=IN https://www.indeed.com/r/Govardhana-K/b2de315d95905b68?isid=rex-download&ikw=download-top&co=IN   SKILLS  APEX. (Less than 1 year), Data Structures (3 years), FLEXCUBE (5 years), Oracle (5 years), Algorithms (3 years)  LINKS  https://www.linkedin.com/in/govardhana-k-61024944/  ADDITIONAL INFORMATION  Technical Proficiency:  Languages: Core Java, Go Lang, Data Structures & Algorithms, Oracle PL-SQL programming, Sales Force with APEX. Tools: RADTool, Jdeveloper, NetBeans, Eclipse, SQL developer, PL/SQL Developer, WinSCP, Putty Web Technologies: JavaScript, XML, HTML, Webservice  Operating Systems: Linux, Windows Version control system SVN & Git-Hub Databases: Oracle Middleware: Web logic, OC4J Product FLEXCUBE: Oracle FLEXCUBE Versions 10.x, 11.x and 12.x  https://www.linkedin.com/in/govardhana-k-61024944/',\n",
       " {'entities': [[1749, 1755, 'Companies worked at'],\n",
       "   [1696, 1702, 'Companies worked at'],\n",
       "   [1417, 1423, 'Companies worked at'],\n",
       "   [1356, 1793, 'Skills'],\n",
       "   [1209, 1215, 'Companies worked at'],\n",
       "   [1136, 1247, 'Skills'],\n",
       "   [928, 932, 'Graduation Year'],\n",
       "   [858, 889, 'College Name'],\n",
       "   [821, 856, 'Degree'],\n",
       "   [787, 791, 'Graduation Year'],\n",
       "   [744, 750, 'Companies worked at'],\n",
       "   [722, 742, 'Designation'],\n",
       "   [658, 664, 'Companies worked at'],\n",
       "   [640, 656, 'Designation'],\n",
       "   [574, 580, 'Companies worked at'],\n",
       "   [555, 572, 'Designation'],\n",
       "   [470, 493, 'Companies worked at'],\n",
       "   [444, 468, 'Designation'],\n",
       "   [308, 314, 'Companies worked at'],\n",
       "   [234, 240, 'Companies worked at'],\n",
       "   [175, 198, 'Companies worked at'],\n",
       "   [93, 136, 'Email Address'],\n",
       "   [39, 48, 'Location'],\n",
       "   [13, 37, 'Designation'],\n",
       "   [0, 12, 'Name']]}]"
      ]
     },
     "execution_count": 4,
     "metadata": {},
     "output_type": "execute_result"
    }
   ],
   "source": [
    "cv_data[0]"
   ]
  },
  {
   "cell_type": "code",
   "execution_count": 5,
   "id": "a08383e5",
   "metadata": {
    "execution": {
     "iopub.execute_input": "2025-05-27T16:22:13.103243Z",
     "iopub.status.busy": "2025-05-27T16:22:13.102854Z",
     "iopub.status.idle": "2025-05-27T16:22:13.109811Z",
     "shell.execute_reply": "2025-05-27T16:22:13.109091Z"
    },
    "papermill": {
     "duration": 0.011402,
     "end_time": "2025-05-27T16:22:13.110891",
     "exception": false,
     "start_time": "2025-05-27T16:22:13.099489",
     "status": "completed"
    },
    "tags": []
   },
   "outputs": [
    {
     "name": "stdout",
     "output_type": "stream",
     "text": [
      "========== Basic Dataset Statistics ==========\n",
      "Total documents: 200\n",
      "Total annotations: 3206\n",
      "Average text length: 3704.95 characters\n",
      "Average annotations per document: 16.03\n"
     ]
    }
   ],
   "source": [
    "documents = cv_data  \n",
    "\n",
    "# Initialize lists to accumulate stats\n",
    "text_lengths = []        \n",
    "annotations_count = []    \n",
    "annotation_labels = []  \n",
    "\n",
    "for doc in documents:\n",
    "    if not isinstance(doc, list) or len(doc) != 2:\n",
    "        print(f\"Skipping document with unexpected structure: {doc}\")\n",
    "        continue\n",
    "    \n",
    "    text = doc[0]\n",
    "    ann_dict = doc[1]\n",
    "    \n",
    "    text_lengths.append(len(text))\n",
    "    entities = ann_dict.get(\"entities\", [])\n",
    "    annotations_count.append(len(entities))\n",
    "    \n",
    "    for entity in entities:\n",
    "        if len(entity) >= 3:\n",
    "            annotation_labels.append(entity[2])\n",
    "        else:\n",
    "            print(f\"Unexpected entity format: {entity}\")\n",
    "\n",
    "# Calculate additional statistics\n",
    "num_docs = len(text_lengths)\n",
    "total_annotations = sum(annotations_count)\n",
    "avg_text_length = sum(text_lengths) / num_docs if num_docs > 0 else 0\n",
    "avg_annotations = total_annotations / num_docs if num_docs > 0 else 0\n",
    "\n",
    "print(\"========== Basic Dataset Statistics ==========\")\n",
    "print(f\"Total documents: {num_docs}\")\n",
    "print(f\"Total annotations: {total_annotations}\")\n",
    "print(f\"Average text length: {avg_text_length:.2f} characters\")\n",
    "print(f\"Average annotations per document: {avg_annotations:.2f}\")"
   ]
  },
  {
   "cell_type": "code",
   "execution_count": 6,
   "id": "a4732a6d",
   "metadata": {
    "execution": {
     "iopub.execute_input": "2025-05-27T16:22:13.117384Z",
     "iopub.status.busy": "2025-05-27T16:22:13.117185Z",
     "iopub.status.idle": "2025-05-27T16:22:15.492831Z",
     "shell.execute_reply": "2025-05-27T16:22:15.492210Z"
    },
    "papermill": {
     "duration": 2.380375,
     "end_time": "2025-05-27T16:22:15.494221",
     "exception": false,
     "start_time": "2025-05-27T16:22:13.113846",
     "status": "completed"
    },
    "tags": []
   },
   "outputs": [],
   "source": [
    "from collections import Counter\n",
    "import matplotlib.pyplot as plt\n",
    "import seaborn as sns"
   ]
  },
  {
   "cell_type": "code",
   "execution_count": 7,
   "id": "b7fe98ed",
   "metadata": {
    "execution": {
     "iopub.execute_input": "2025-05-27T16:22:15.501628Z",
     "iopub.status.busy": "2025-05-27T16:22:15.501240Z",
     "iopub.status.idle": "2025-05-27T16:22:15.506317Z",
     "shell.execute_reply": "2025-05-27T16:22:15.505462Z"
    },
    "papermill": {
     "duration": 0.009908,
     "end_time": "2025-05-27T16:22:15.507480",
     "exception": false,
     "start_time": "2025-05-27T16:22:15.497572",
     "status": "completed"
    },
    "tags": []
   },
   "outputs": [
    {
     "name": "stdout",
     "output_type": "stream",
     "text": [
      "\n",
      "---------- Distinct Annotation Labels ----------\n",
      "Companies worked at: 676\n",
      "Skills: 417\n",
      "Graduation Year: 222\n",
      "College Name: 291\n",
      "Degree: 268\n",
      "Designation: 473\n",
      "Email Address: 229\n",
      "Location: 381\n",
      "Name: 205\n",
      "Years of Experience: 42\n",
      "UNKNOWN: 2\n"
     ]
    }
   ],
   "source": [
    "label_counter = Counter(annotation_labels)\n",
    "print(\"\\n---------- Distinct Annotation Labels ----------\")\n",
    "for label, count in label_counter.items():\n",
    "    print(f\"{label}: {count}\")"
   ]
  },
  {
   "cell_type": "code",
   "execution_count": 8,
   "id": "a1bcee2f",
   "metadata": {
    "execution": {
     "iopub.execute_input": "2025-05-27T16:22:15.514274Z",
     "iopub.status.busy": "2025-05-27T16:22:15.514074Z",
     "iopub.status.idle": "2025-05-27T16:22:15.817888Z",
     "shell.execute_reply": "2025-05-27T16:22:15.817236Z"
    },
    "papermill": {
     "duration": 0.308686,
     "end_time": "2025-05-27T16:22:15.819290",
     "exception": false,
     "start_time": "2025-05-27T16:22:15.510604",
     "status": "completed"
    },
    "tags": []
   },
   "outputs": [
    {
     "name": "stderr",
     "output_type": "stream",
     "text": [
      "/usr/local/lib/python3.11/dist-packages/seaborn/_oldcore.py:1765: FutureWarning: unique with argument that is not not a Series, Index, ExtensionArray, or np.ndarray is deprecated and will raise in a future version.\n",
      "  order = pd.unique(vector)\n"
     ]
    },
    {
     "data": {
      "image/png": "[encoded data removed]",
      "text/plain": [
       "<Figure size 1000x600 with 1 Axes>"
      ]
     },
     "metadata": {},
     "output_type": "display_data"
    }
   ],
   "source": [
    "plt.figure(figsize=(10,6))\n",
    "sns.barplot(x=list(label_counter.keys()), y=list(label_counter.values()), palette=\"viridis\")\n",
    "plt.xlabel(\"Annotation Label\")\n",
    "plt.ylabel(\"Frequency\")\n",
    "plt.title(\"Frequency Distribution of Annotation Labels\")\n",
    "plt.xticks(rotation=45, ha='right')\n",
    "plt.tight_layout()\n",
    "plt.show()"
   ]
  },
  {
   "cell_type": "code",
   "execution_count": 9,
   "id": "4b166443",
   "metadata": {
    "execution": {
     "iopub.execute_input": "2025-05-27T16:22:15.828250Z",
     "iopub.status.busy": "2025-05-27T16:22:15.828023Z",
     "iopub.status.idle": "2025-05-27T16:22:16.108570Z",
     "shell.execute_reply": "2025-05-27T16:22:16.107860Z"
    },
    "papermill": {
     "duration": 0.28617,
     "end_time": "2025-05-27T16:22:16.109689",
     "exception": false,
     "start_time": "2025-05-27T16:22:15.823519",
     "status": "completed"
    },
    "tags": []
   },
   "outputs": [
    {
     "name": "stderr",
     "output_type": "stream",
     "text": [
      "/usr/local/lib/python3.11/dist-packages/seaborn/_oldcore.py:1119: FutureWarning: use_inf_as_na option is deprecated and will be removed in a future version. Convert inf values to NaN before operating instead.\n",
      "  with pd.option_context('mode.use_inf_as_na', True):\n"
     ]
    },
    {
     "data": {
      "image/png": "[encoded data removed]",
      "text/plain": [
       "<Figure size 1000x600 with 1 Axes>"
      ]
     },
     "metadata": {},
     "output_type": "display_data"
    }
   ],
   "source": [
    "plt.figure(figsize=(10,6))\n",
    "sns.histplot(text_lengths, bins=30, kde=True, color=\"steelblue\")\n",
    "plt.xlabel(\"Text Length (Number of Characters)\")\n",
    "plt.ylabel(\"Number of Documents\")\n",
    "plt.title(\"Distribution of Text Length in Documents\")\n",
    "plt.tight_layout()\n",
    "plt.show()"
   ]
  },
  {
   "cell_type": "code",
   "execution_count": 10,
   "id": "0e0a54dd",
   "metadata": {
    "execution": {
     "iopub.execute_input": "2025-05-27T16:22:16.119720Z",
     "iopub.status.busy": "2025-05-27T16:22:16.119513Z",
     "iopub.status.idle": "2025-05-27T16:22:16.356489Z",
     "shell.execute_reply": "2025-05-27T16:22:16.355771Z"
    },
    "papermill": {
     "duration": 0.243042,
     "end_time": "2025-05-27T16:22:16.357563",
     "exception": false,
     "start_time": "2025-05-27T16:22:16.114521",
     "status": "completed"
    },
    "tags": []
   },
   "outputs": [
    {
     "name": "stderr",
     "output_type": "stream",
     "text": [
      "/usr/local/lib/python3.11/dist-packages/seaborn/_oldcore.py:1119: FutureWarning: use_inf_as_na option is deprecated and will be removed in a future version. Convert inf values to NaN before operating instead.\n",
      "  with pd.option_context('mode.use_inf_as_na', True):\n"
     ]
    },
    {
     "data": {
      "image/png": "[encoded data removed]",
      "text/plain": [
       "<Figure size 1000x600 with 1 Axes>"
      ]
     },
     "metadata": {},
     "output_type": "display_data"
    }
   ],
   "source": [
    "plt.figure(figsize=(10,6))\n",
    "sns.histplot(annotations_count, bins=range(0, max(annotations_count)+2), color='salmon', edgecolor='black')\n",
    "plt.xlabel(\"Number of Annotations per Document\")\n",
    "plt.ylabel(\"Number of Documents\")\n",
    "plt.title(\"Distribution of Annotations per Document\")\n",
    "plt.tight_layout()\n",
    "plt.show()"
   ]
  },
  {
   "cell_type": "markdown",
   "id": "a4f215f2",
   "metadata": {
    "papermill": {
     "duration": 0.004749,
     "end_time": "2025-05-27T16:22:16.367487",
     "exception": false,
     "start_time": "2025-05-27T16:22:16.362738",
     "status": "completed"
    },
    "tags": []
   },
   "source": [
    "**TRAIN MODEL**"
   ]
  },
  {
   "cell_type": "code",
   "execution_count": 11,
   "id": "915cafc1",
   "metadata": {
    "execution": {
     "iopub.execute_input": "2025-05-27T16:22:16.378321Z",
     "iopub.status.busy": "2025-05-27T16:22:16.377784Z",
     "iopub.status.idle": "2025-05-27T16:22:16.384066Z",
     "shell.execute_reply": "2025-05-27T16:22:16.383396Z"
    },
    "papermill": {
     "duration": 0.012791,
     "end_time": "2025-05-27T16:22:16.385053",
     "exception": false,
     "start_time": "2025-05-27T16:22:16.372262",
     "status": "completed"
    },
    "tags": []
   },
   "outputs": [],
   "source": [
    "def get_spacy_doc(error_log_file, data):\n",
    "    nlp = spacy.load(\"en_core_web_sm\")\n",
    "    db = DocBin()\n",
    "\n",
    "    for item in tqdm(data, desc=\"Processing documents\"):\n",
    "        try:\n",
    "            text, annotation_dict = item\n",
    "            \n",
    "            # Ensure text is properly encoded/decoded.\n",
    "            text = text.encode(\"utf-8\", errors=\"replace\").decode(\"utf-8\")\n",
    "            doc = nlp.make_doc(text)\n",
    "            ents = []\n",
    "            entity_indices = set()\n",
    "            \n",
    "            annotations = annotation_dict.get(\"entities\", [])\n",
    "            for annotation in annotations:\n",
    "                if len(annotation) < 3:\n",
    "                    error_log_file.write(f\"Skipping malformed annotation: {annotation}\\n\")\n",
    "                    continue\n",
    "\n",
    "                start, end, label = annotation\n",
    "                label = label.upper()\n",
    "                \n",
    "                # Skip this entity if any index in the span is already used.\n",
    "                if any(idx in entity_indices for idx in range(start, end)):\n",
    "                    continue\n",
    "                entity_indices.update(range(start, end))\n",
    "\n",
    "                span = doc.char_span(start, end, label=label, alignment_mode=\"strict\")\n",
    "                if span is None:\n",
    "                    error_log_file.write(\n",
    "                        f\"Skipping entity: {label} [{start}-{end}] in text:\\n{text[:100]}...\\n\"\n",
    "                    )\n",
    "                    continue\n",
    "                ents.append(span)\n",
    "            doc.ents = ents\n",
    "            db.add(doc)\n",
    "        except Exception as e:\n",
    "            error_log_file.write(f\"Error processing document starting with '{text[:50]}...': {e}\\n\")\n",
    "            continue\n",
    "\n",
    "    return db"
   ]
  },
  {
   "cell_type": "code",
   "execution_count": 12,
   "id": "de20db40",
   "metadata": {
    "execution": {
     "iopub.execute_input": "2025-05-27T16:22:16.395378Z",
     "iopub.status.busy": "2025-05-27T16:22:16.395097Z",
     "iopub.status.idle": "2025-05-27T16:22:16.742897Z",
     "shell.execute_reply": "2025-05-27T16:22:16.742123Z"
    },
    "papermill": {
     "duration": 0.354425,
     "end_time": "2025-05-27T16:22:16.744271",
     "exception": false,
     "start_time": "2025-05-27T16:22:16.389846",
     "status": "completed"
    },
    "tags": []
   },
   "outputs": [],
   "source": [
    "from sklearn.model_selection import train_test_split\n",
    "train, test = train_test_split(cv_data, test_size=0.3)"
   ]
  },
  {
   "cell_type": "code",
   "execution_count": 13,
   "id": "15fede95",
   "metadata": {
    "execution": {
     "iopub.execute_input": "2025-05-27T16:22:16.755231Z",
     "iopub.status.busy": "2025-05-27T16:22:16.755038Z",
     "iopub.status.idle": "2025-05-27T16:22:16.759461Z",
     "shell.execute_reply": "2025-05-27T16:22:16.758917Z"
    },
    "papermill": {
     "duration": 0.010802,
     "end_time": "2025-05-27T16:22:16.760456",
     "exception": false,
     "start_time": "2025-05-27T16:22:16.749654",
     "status": "completed"
    },
    "tags": []
   },
   "outputs": [
    {
     "data": {
      "text/plain": [
       "(140, 60)"
      ]
     },
     "execution_count": 13,
     "metadata": {},
     "output_type": "execute_result"
    }
   ],
   "source": [
    "len(train), len(test)"
   ]
  },
  {
   "cell_type": "code",
   "execution_count": 14,
   "id": "1f8ef349",
   "metadata": {
    "execution": {
     "iopub.execute_input": "2025-05-27T16:22:16.771003Z",
     "iopub.status.busy": "2025-05-27T16:22:16.770824Z",
     "iopub.status.idle": "2025-05-27T16:22:20.517064Z",
     "shell.execute_reply": "2025-05-27T16:22:20.516185Z"
    },
    "papermill": {
     "duration": 3.752984,
     "end_time": "2025-05-27T16:22:20.518397",
     "exception": false,
     "start_time": "2025-05-27T16:22:16.765413",
     "status": "completed"
    },
    "tags": []
   },
   "outputs": [
    {
     "name": "stderr",
     "output_type": "stream",
     "text": [
      "Processing documents: 100%|██████████| 200/200 [00:01<00:00, 118.56it/s]\n",
      "Processing documents: 100%|██████████| 60/60 [00:00<00:00, 109.07it/s]\n"
     ]
    }
   ],
   "source": [
    "file = open(\"error_data.txt\", \"w\")\n",
    "db = get_spacy_doc(file, cv_data)\n",
    "db.to_disk(\"train_data.spacy\")\n",
    "\n",
    "db = get_spacy_doc(file, test)\n",
    "db.to_disk(\"test_data.spacy\")\n",
    "\n",
    "file.close()"
   ]
  },
  {
   "cell_type": "code",
   "execution_count": 15,
   "id": "a56dd647",
   "metadata": {
    "execution": {
     "iopub.execute_input": "2025-05-27T16:22:20.532223Z",
     "iopub.status.busy": "2025-05-27T16:22:20.532016Z",
     "iopub.status.idle": "2025-05-27T16:23:35.889719Z",
     "shell.execute_reply": "2025-05-27T16:23:35.888750Z"
    },
    "papermill": {
     "duration": 75.365782,
     "end_time": "2025-05-27T16:23:35.891257",
     "exception": false,
     "start_time": "2025-05-27T16:22:20.525475",
     "status": "completed"
    },
    "scrolled": true,
    "tags": []
   },
   "outputs": [
    {
     "name": "stdout",
     "output_type": "stream",
     "text": [
      "Collecting spacy-transformers\r\n",
      "  Downloading spacy_transformers-1.3.9-cp311-cp311-manylinux_2_17_x86_64.manylinux2014_x86_64.whl.metadata (7.0 kB)\r\n",
      "Requirement already satisfied: spacy<4.1.0,>=3.5.0 in /usr/local/lib/python3.11/dist-packages (from spacy-transformers) (3.8.5)\r\n",
      "Requirement already satisfied: numpy>=1.19.0 in /usr/local/lib/python3.11/dist-packages (from spacy-transformers) (1.26.4)\r\n",
      "Collecting transformers<4.50.0,>=3.4.0 (from spacy-transformers)\r\n",
      "  Downloading transformers-4.49.0-py3-none-any.whl.metadata (44 kB)\r\n",
      "\u001b[2K     \u001b[90m━━━━━━━━━━━━━━━━━━━━━━━━━━━━━━━━━━━━━━━━\u001b[0m \u001b[32m44.0/44.0 kB\u001b[0m \u001b[31m1.5 MB/s\u001b[0m eta \u001b[36m0:00:00\u001b[0m\r\n",
      "\u001b[?25hRequirement already satisfied: torch>=1.8.0 in /usr/local/lib/python3.11/dist-packages (from spacy-transformers) (2.6.0+cu124)\r\n",
      "Requirement already satisfied: srsly<3.0.0,>=2.4.0 in /usr/local/lib/python3.11/dist-packages (from spacy-transformers) (2.5.1)\r\n",
      "Collecting spacy-alignments<1.0.0,>=0.7.2 (from spacy-transformers)\r\n",
      "  Downloading spacy_alignments-0.9.1-cp311-cp311-manylinux_2_17_x86_64.manylinux2014_x86_64.whl.metadata (2.7 kB)\r\n",
      "Requirement already satisfied: mkl_fft in /usr/local/lib/python3.11/dist-packages (from numpy>=1.19.0->spacy-transformers) (1.3.8)\r\n",
      "Requirement already satisfied: mkl_random in /usr/local/lib/python3.11/dist-packages (from numpy>=1.19.0->spacy-transformers) (1.2.4)\r\n",
      "Requirement already satisfied: mkl_umath in /usr/local/lib/python3.11/dist-packages (from numpy>=1.19.0->spacy-transformers) (0.1.1)\r\n",
      "Requirement already satisfied: mkl in /usr/local/lib/python3.11/dist-packages (from numpy>=1.19.0->spacy-transformers) (2025.1.0)\r\n",
      "Requirement already satisfied: tbb4py in /usr/local/lib/python3.11/dist-packages (from numpy>=1.19.0->spacy-transformers) (2022.1.0)\r\n",
      "Requirement already satisfied: mkl-service in /usr/local/lib/python3.11/dist-packages (from numpy>=1.19.0->spacy-transformers) (2.4.1)\r\n",
      "Requirement already satisfied: spacy-legacy<3.1.0,>=3.0.11 in /usr/local/lib/python3.11/dist-packages (from spacy<4.1.0,>=3.5.0->spacy-transformers) (3.0.12)\r\n",
      "Requirement already satisfied: spacy-loggers<2.0.0,>=1.0.0 in /usr/local/lib/python3.11/dist-packages (from spacy<4.1.0,>=3.5.0->spacy-transformers) (1.0.5)\r\n",
      "Requirement already satisfied: murmurhash<1.1.0,>=0.28.0 in /usr/local/lib/python3.11/dist-packages (from spacy<4.1.0,>=3.5.0->spacy-transformers) (1.0.12)\r\n",
      "Requirement already satisfied: cymem<2.1.0,>=2.0.2 in /usr/local/lib/python3.11/dist-packages (from spacy<4.1.0,>=3.5.0->spacy-transformers) (2.0.11)\r\n",
      "Requirement already satisfied: preshed<3.1.0,>=3.0.2 in /usr/local/lib/python3.11/dist-packages (from spacy<4.1.0,>=3.5.0->spacy-transformers) (3.0.9)\r\n",
      "Requirement already satisfied: thinc<8.4.0,>=8.3.4 in /usr/local/lib/python3.11/dist-packages (from spacy<4.1.0,>=3.5.0->spacy-transformers) (8.3.4)\r\n",
      "Requirement already satisfied: wasabi<1.2.0,>=0.9.1 in /usr/local/lib/python3.11/dist-packages (from spacy<4.1.0,>=3.5.0->spacy-transformers) (1.1.3)\r\n",
      "Requirement already satisfied: catalogue<2.1.0,>=2.0.6 in /usr/local/lib/python3.11/dist-packages (from spacy<4.1.0,>=3.5.0->spacy-transformers) (2.0.10)\r\n",
      "Requirement already satisfied: weasel<0.5.0,>=0.1.0 in /usr/local/lib/python3.11/dist-packages (from spacy<4.1.0,>=3.5.0->spacy-transformers) (0.4.1)\r\n",
      "Requirement already satisfied: typer<1.0.0,>=0.3.0 in /usr/local/lib/python3.11/dist-packages (from spacy<4.1.0,>=3.5.0->spacy-transformers) (0.15.2)\r\n",
      "Requirement already satisfied: tqdm<5.0.0,>=4.38.0 in /usr/local/lib/python3.11/dist-packages (from spacy<4.1.0,>=3.5.0->spacy-transformers) (4.67.1)\r\n",
      "Requirement already satisfied: requests<3.0.0,>=2.13.0 in /usr/local/lib/python3.11/dist-packages (from spacy<4.1.0,>=3.5.0->spacy-transformers) (2.32.3)\r\n",
      "Requirement already satisfied: pydantic!=1.8,!=1.8.1,<3.0.0,>=1.7.4 in /usr/local/lib/python3.11/dist-packages (from spacy<4.1.0,>=3.5.0->spacy-transformers) (2.11.4)\r\n",
      "Requirement already satisfied: jinja2 in /usr/local/lib/python3.11/dist-packages (from spacy<4.1.0,>=3.5.0->spacy-transformers) (3.1.6)\r\n",
      "Requirement already satisfied: setuptools in /usr/local/lib/python3.11/dist-packages (from spacy<4.1.0,>=3.5.0->spacy-transformers) (75.2.0)\r\n",
      "Requirement already satisfied: packaging>=20.0 in /usr/local/lib/python3.11/dist-packages (from spacy<4.1.0,>=3.5.0->spacy-transformers) (25.0)\r\n",
      "Requirement already satisfied: langcodes<4.0.0,>=3.2.0 in /usr/local/lib/python3.11/dist-packages (from spacy<4.1.0,>=3.5.0->spacy-transformers) (3.5.0)\r\n",
      "Requirement already satisfied: filelock in /usr/local/lib/python3.11/dist-packages (from torch>=1.8.0->spacy-transformers) (3.18.0)\r\n",
      "Requirement already satisfied: typing-extensions>=4.10.0 in /usr/local/lib/python3.11/dist-packages (from torch>=1.8.0->spacy-transformers) (4.13.2)\r\n",
      "Requirement already satisfied: networkx in /usr/local/lib/python3.11/dist-packages (from torch>=1.8.0->spacy-transformers) (3.4.2)\r\n",
      "Requirement already satisfied: fsspec in /usr/local/lib/python3.11/dist-packages (from torch>=1.8.0->spacy-transformers) (2025.3.2)\r\n",
      "Requirement already satisfied: nvidia-cuda-nvrtc-cu12==12.4.127 in /usr/local/lib/python3.11/dist-packages (from torch>=1.8.0->spacy-transformers) (12.4.127)\r\n",
      "Requirement already satisfied: nvidia-cuda-runtime-cu12==12.4.127 in /usr/local/lib/python3.11/dist-packages (from torch>=1.8.0->spacy-transformers) (12.4.127)\r\n",
      "Requirement already satisfied: nvidia-cuda-cupti-cu12==12.4.127 in /usr/local/lib/python3.11/dist-packages (from torch>=1.8.0->spacy-transformers) (12.4.127)\r\n",
      "Collecting nvidia-cudnn-cu12==9.1.0.70 (from torch>=1.8.0->spacy-transformers)\r\n",
      "  Downloading nvidia_cudnn_cu12-9.1.0.70-py3-none-manylinux2014_x86_64.whl.metadata (1.6 kB)\r\n",
      "Collecting nvidia-cublas-cu12==12.4.5.8 (from torch>=1.8.0->spacy-transformers)\r\n",
      "  Downloading nvidia_cublas_cu12-12.4.5.8-py3-none-manylinux2014_x86_64.whl.metadata (1.5 kB)\r\n",
      "Collecting nvidia-cufft-cu12==11.2.1.3 (from torch>=1.8.0->spacy-transformers)\r\n",
      "  Downloading nvidia_cufft_cu12-11.2.1.3-py3-none-manylinux2014_x86_64.whl.metadata (1.5 kB)\r\n",
      "Collecting nvidia-curand-cu12==10.3.5.147 (from torch>=1.8.0->spacy-transformers)\r\n",
      "  Downloading nvidia_curand_cu12-10.3.5.147-py3-none-manylinux2014_x86_64.whl.metadata (1.5 kB)\r\n",
      "Collecting nvidia-cusolver-cu12==11.6.1.9 (from torch>=1.8.0->spacy-transformers)\r\n",
      "  Downloading nvidia_cusolver_cu12-11.6.1.9-py3-none-manylinux2014_x86_64.whl.metadata (1.6 kB)\r\n",
      "Collecting nvidia-cusparse-cu12==12.3.1.170 (from torch>=1.8.0->spacy-transformers)\r\n",
      "  Downloading nvidia_cusparse_cu12-12.3.1.170-py3-none-manylinux2014_x86_64.whl.metadata (1.6 kB)\r\n",
      "Requirement already satisfied: nvidia-cusparselt-cu12==0.6.2 in /usr/local/lib/python3.11/dist-packages (from torch>=1.8.0->spacy-transformers) (0.6.2)\r\n",
      "Requirement already satisfied: nvidia-nccl-cu12==2.21.5 in /usr/local/lib/python3.11/dist-packages (from torch>=1.8.0->spacy-transformers) (2.21.5)\r\n",
      "Requirement already satisfied: nvidia-nvtx-cu12==12.4.127 in /usr/local/lib/python3.11/dist-packages (from torch>=1.8.0->spacy-transformers) (12.4.127)\r\n",
      "Collecting nvidia-nvjitlink-cu12==12.4.127 (from torch>=1.8.0->spacy-transformers)\r\n",
      "  Downloading nvidia_nvjitlink_cu12-12.4.127-py3-none-manylinux2014_x86_64.whl.metadata (1.5 kB)\r\n",
      "Requirement already satisfied: triton==3.2.0 in /usr/local/lib/python3.11/dist-packages (from torch>=1.8.0->spacy-transformers) (3.2.0)\r\n",
      "Requirement already satisfied: sympy==1.13.1 in /usr/local/lib/python3.11/dist-packages (from torch>=1.8.0->spacy-transformers) (1.13.1)\r\n",
      "Requirement already satisfied: mpmath<1.4,>=1.1.0 in /usr/local/lib/python3.11/dist-packages (from sympy==1.13.1->torch>=1.8.0->spacy-transformers) (1.3.0)\r\n",
      "Requirement already satisfied: huggingface-hub<1.0,>=0.26.0 in /usr/local/lib/python3.11/dist-packages (from transformers<4.50.0,>=3.4.0->spacy-transformers) (0.31.1)\r\n",
      "Requirement already satisfied: pyyaml>=5.1 in /usr/local/lib/python3.11/dist-packages (from transformers<4.50.0,>=3.4.0->spacy-transformers) (6.0.2)\r\n",
      "Requirement already satisfied: regex!=2019.12.17 in /usr/local/lib/python3.11/dist-packages (from transformers<4.50.0,>=3.4.0->spacy-transformers) (2024.11.6)\r\n",
      "Requirement already satisfied: tokenizers<0.22,>=0.21 in /usr/local/lib/python3.11/dist-packages (from transformers<4.50.0,>=3.4.0->spacy-transformers) (0.21.1)\r\n",
      "Requirement already satisfied: safetensors>=0.4.1 in /usr/local/lib/python3.11/dist-packages (from transformers<4.50.0,>=3.4.0->spacy-transformers) (0.5.3)\r\n",
      "Requirement already satisfied: hf-xet<2.0.0,>=1.1.0 in /usr/local/lib/python3.11/dist-packages (from huggingface-hub<1.0,>=0.26.0->transformers<4.50.0,>=3.4.0->spacy-transformers) (1.1.0)\r\n",
      "Requirement already satisfied: language-data>=1.2 in /usr/local/lib/python3.11/dist-packages (from langcodes<4.0.0,>=3.2.0->spacy<4.1.0,>=3.5.0->spacy-transformers) (1.3.0)\r\n",
      "Requirement already satisfied: annotated-types>=0.6.0 in /usr/local/lib/python3.11/dist-packages (from pydantic!=1.8,!=1.8.1,<3.0.0,>=1.7.4->spacy<4.1.0,>=3.5.0->spacy-transformers) (0.7.0)\r\n",
      "Requirement already satisfied: pydantic-core==2.33.2 in /usr/local/lib/python3.11/dist-packages (from pydantic!=1.8,!=1.8.1,<3.0.0,>=1.7.4->spacy<4.1.0,>=3.5.0->spacy-transformers) (2.33.2)\r\n",
      "Requirement already satisfied: typing-inspection>=0.4.0 in /usr/local/lib/python3.11/dist-packages (from pydantic!=1.8,!=1.8.1,<3.0.0,>=1.7.4->spacy<4.1.0,>=3.5.0->spacy-transformers) (0.4.0)\r\n",
      "Requirement already satisfied: charset-normalizer<4,>=2 in /usr/local/lib/python3.11/dist-packages (from requests<3.0.0,>=2.13.0->spacy<4.1.0,>=3.5.0->spacy-transformers) (3.4.2)\r\n",
      "Requirement already satisfied: idna<4,>=2.5 in /usr/local/lib/python3.11/dist-packages (from requests<3.0.0,>=2.13.0->spacy<4.1.0,>=3.5.0->spacy-transformers) (3.10)\r\n",
      "Requirement already satisfied: urllib3<3,>=1.21.1 in /usr/local/lib/python3.11/dist-packages (from requests<3.0.0,>=2.13.0->spacy<4.1.0,>=3.5.0->spacy-transformers) (2.4.0)\r\n",
      "Requirement already satisfied: certifi>=2017.4.17 in /usr/local/lib/python3.11/dist-packages (from requests<3.0.0,>=2.13.0->spacy<4.1.0,>=3.5.0->spacy-transformers) (2025.4.26)\r\n",
      "Requirement already satisfied: blis<1.3.0,>=1.2.0 in /usr/local/lib/python3.11/dist-packages (from thinc<8.4.0,>=8.3.4->spacy<4.1.0,>=3.5.0->spacy-transformers) (1.2.1)\r\n",
      "Requirement already satisfied: confection<1.0.0,>=0.0.1 in /usr/local/lib/python3.11/dist-packages (from thinc<8.4.0,>=8.3.4->spacy<4.1.0,>=3.5.0->spacy-transformers) (0.1.5)\r\n",
      "Requirement already satisfied: click>=8.0.0 in /usr/local/lib/python3.11/dist-packages (from typer<1.0.0,>=0.3.0->spacy<4.1.0,>=3.5.0->spacy-transformers) (8.1.8)\r\n",
      "Requirement already satisfied: shellingham>=1.3.0 in /usr/local/lib/python3.11/dist-packages (from typer<1.0.0,>=0.3.0->spacy<4.1.0,>=3.5.0->spacy-transformers) (1.5.4)\r\n",
      "Requirement already satisfied: rich>=10.11.0 in /usr/local/lib/python3.11/dist-packages (from typer<1.0.0,>=0.3.0->spacy<4.1.0,>=3.5.0->spacy-transformers) (14.0.0)\r\n",
      "Requirement already satisfied: cloudpathlib<1.0.0,>=0.7.0 in /usr/local/lib/python3.11/dist-packages (from weasel<0.5.0,>=0.1.0->spacy<4.1.0,>=3.5.0->spacy-transformers) (0.21.0)\r\n",
      "Requirement already satisfied: smart-open<8.0.0,>=5.2.1 in /usr/local/lib/python3.11/dist-packages (from weasel<0.5.0,>=0.1.0->spacy<4.1.0,>=3.5.0->spacy-transformers) (7.1.0)\r\n",
      "Requirement already satisfied: MarkupSafe>=2.0 in /usr/local/lib/python3.11/dist-packages (from jinja2->spacy<4.1.0,>=3.5.0->spacy-transformers) (3.0.2)\r\n",
      "Requirement already satisfied: intel-openmp<2026,>=2024 in /usr/local/lib/python3.11/dist-packages (from mkl->numpy>=1.19.0->spacy-transformers) (2024.2.0)\r\n",
      "Requirement already satisfied: tbb==2022.* in /usr/local/lib/python3.11/dist-packages (from mkl->numpy>=1.19.0->spacy-transformers) (2022.1.0)\r\n",
      "Requirement already satisfied: tcmlib==1.* in /usr/local/lib/python3.11/dist-packages (from tbb==2022.*->mkl->numpy>=1.19.0->spacy-transformers) (1.3.0)\r\n",
      "Requirement already satisfied: intel-cmplr-lib-rt in /usr/local/lib/python3.11/dist-packages (from mkl_umath->numpy>=1.19.0->spacy-transformers) (2024.2.0)\r\n",
      "Requirement already satisfied: intel-cmplr-lib-ur==2024.2.0 in /usr/local/lib/python3.11/dist-packages (from intel-openmp<2026,>=2024->mkl->numpy>=1.19.0->spacy-transformers) (2024.2.0)\r\n",
      "Requirement already satisfied: marisa-trie>=1.1.0 in /usr/local/lib/python3.11/dist-packages (from language-data>=1.2->langcodes<4.0.0,>=3.2.0->spacy<4.1.0,>=3.5.0->spacy-transformers) (1.2.1)\r\n",
      "Requirement already satisfied: markdown-it-py>=2.2.0 in /usr/local/lib/python3.11/dist-packages (from rich>=10.11.0->typer<1.0.0,>=0.3.0->spacy<4.1.0,>=3.5.0->spacy-transformers) (3.0.0)\r\n",
      "Requirement already satisfied: pygments<3.0.0,>=2.13.0 in /usr/local/lib/python3.11/dist-packages (from rich>=10.11.0->typer<1.0.0,>=0.3.0->spacy<4.1.0,>=3.5.0->spacy-transformers) (2.19.1)\r\n",
      "Requirement already satisfied: wrapt in /usr/local/lib/python3.11/dist-packages (from smart-open<8.0.0,>=5.2.1->weasel<0.5.0,>=0.1.0->spacy<4.1.0,>=3.5.0->spacy-transformers) (1.17.2)\r\n",
      "Requirement already satisfied: mdurl~=0.1 in /usr/local/lib/python3.11/dist-packages (from markdown-it-py>=2.2.0->rich>=10.11.0->typer<1.0.0,>=0.3.0->spacy<4.1.0,>=3.5.0->spacy-transformers) (0.1.2)\r\n",
      "Downloading spacy_transformers-1.3.9-cp311-cp311-manylinux_2_17_x86_64.manylinux2014_x86_64.whl (758 kB)\r\n",
      "\u001b[2K   \u001b[90m━━━━━━━━━━━━━━━━━━━━━━━━━━━━━━━━━━━━━━━━\u001b[0m \u001b[32m758.8/758.8 kB\u001b[0m \u001b[31m13.9 MB/s\u001b[0m eta \u001b[36m0:00:00\u001b[0m\r\n",
      "\u001b[?25hDownloading spacy_alignments-0.9.1-cp311-cp311-manylinux_2_17_x86_64.manylinux2014_x86_64.whl (313 kB)\r\n",
      "\u001b[2K   \u001b[90m━━━━━━━━━━━━━━━━━━━━━━━━━━━━━━━━━━━━━━━━\u001b[0m \u001b[32m314.0/314.0 kB\u001b[0m \u001b[31m17.8 MB/s\u001b[0m eta \u001b[36m0:00:00\u001b[0m\r\n",
      "\u001b[?25hDownloading nvidia_cublas_cu12-12.4.5.8-py3-none-manylinux2014_x86_64.whl (363.4 MB)\r\n",
      "\u001b[2K   \u001b[90m━━━━━━━━━━━━━━━━━━━━━━━━━━━━━━━━━━━━━━━━\u001b[0m \u001b[32m363.4/363.4 MB\u001b[0m \u001b[31m5.1 MB/s\u001b[0m eta \u001b[36m0:00:00\u001b[0m\r\n",
      "\u001b[?25hDownloading nvidia_cudnn_cu12-9.1.0.70-py3-none-manylinux2014_x86_64.whl (664.8 MB)\r\n",
      "\u001b[2K   \u001b[90m━━━━━━━━━━━━━━━━━━━━━━━━━━━━━━━━━━━━━━━━\u001b[0m \u001b[32m664.8/664.8 MB\u001b[0m \u001b[31m2.7 MB/s\u001b[0m eta \u001b[36m0:00:00\u001b[0m\r\n",
      "\u001b[?25hDownloading nvidia_cufft_cu12-11.2.1.3-py3-none-manylinux2014_x86_64.whl (211.5 MB)\r\n",
      "\u001b[2K   \u001b[90m━━━━━━━━━━━━━━━━━━━━━━━━━━━━━━━━━━━━━━━━\u001b[0m \u001b[32m211.5/211.5 MB\u001b[0m \u001b[31m8.1 MB/s\u001b[0m eta \u001b[36m0:00:00\u001b[0m\r\n",
      "\u001b[?25hDownloading nvidia_curand_cu12-10.3.5.147-py3-none-manylinux2014_x86_64.whl (56.3 MB)\r\n",
      "\u001b[2K   \u001b[90m━━━━━━━━━━━━━━━━━━━━━━━━━━━━━━━━━━━━━━━━\u001b[0m \u001b[32m56.3/56.3 MB\u001b[0m \u001b[31m12.5 MB/s\u001b[0m eta \u001b[36m0:00:00\u001b[0m\r\n",
      "\u001b[?25hDownloading nvidia_cusolver_cu12-11.6.1.9-py3-none-manylinux2014_x86_64.whl (127.9 MB)\r\n",
      "\u001b[2K   \u001b[90m━━━━━━━━━━━━━━━━━━━━━━━━━━━━━━━━━━━━━━━━\u001b[0m \u001b[32m127.9/127.9 MB\u001b[0m \u001b[31m13.6 MB/s\u001b[0m eta \u001b[36m0:00:00\u001b[0m\r\n",
      "\u001b[?25hDownloading nvidia_cusparse_cu12-12.3.1.170-py3-none-manylinux2014_x86_64.whl (207.5 MB)\r\n",
      "\u001b[2K   \u001b[90m━━━━━━━━━━━━━━━━━━━━━━━━━━━━━━━━━━━━━━━━\u001b[0m \u001b[32m207.5/207.5 MB\u001b[0m \u001b[31m8.3 MB/s\u001b[0m eta \u001b[36m0:00:00\u001b[0m\r\n",
      "\u001b[?25hDownloading nvidia_nvjitlink_cu12-12.4.127-py3-none-manylinux2014_x86_64.whl (21.1 MB)\r\n",
      "\u001b[2K   \u001b[90m━━━━━━━━━━━━━━━━━━━━━━━━━━━━━━━━━━━━━━━━\u001b[0m \u001b[32m21.1/21.1 MB\u001b[0m \u001b[31m83.9 MB/s\u001b[0m eta \u001b[36m0:00:00\u001b[0m\r\n",
      "\u001b[?25hDownloading transformers-4.49.0-py3-none-any.whl (10.0 MB)\r\n",
      "\u001b[2K   \u001b[90m━━━━━━━━━━━━━━━━━━━━━━━━━━━━━━━━━━━━━━━━\u001b[0m \u001b[32m10.0/10.0 MB\u001b[0m \u001b[31m100.5 MB/s\u001b[0m eta \u001b[36m0:00:00\u001b[0m\r\n",
      "\u001b[?25hInstalling collected packages: spacy-alignments, nvidia-nvjitlink-cu12, nvidia-curand-cu12, nvidia-cufft-cu12, nvidia-cublas-cu12, nvidia-cusparse-cu12, nvidia-cudnn-cu12, nvidia-cusolver-cu12, transformers, spacy-transformers\r\n",
      "  Attempting uninstall: nvidia-nvjitlink-cu12\r\n",
      "    Found existing installation: nvidia-nvjitlink-cu12 12.9.41\r\n",
      "    Uninstalling nvidia-nvjitlink-cu12-12.9.41:\r\n",
      "      Successfully uninstalled nvidia-nvjitlink-cu12-12.9.41\r\n",
      "  Attempting uninstall: nvidia-curand-cu12\r\n",
      "    Found existing installation: nvidia-curand-cu12 10.3.10.19\r\n",
      "    Uninstalling nvidia-curand-cu12-10.3.10.19:\r\n",
      "      Successfully uninstalled nvidia-curand-cu12-10.3.10.19\r\n",
      "  Attempting uninstall: nvidia-cufft-cu12\r\n",
      "    Found existing installation: nvidia-cufft-cu12 11.4.0.6\r\n",
      "    Uninstalling nvidia-cufft-cu12-11.4.0.6:\r\n",
      "      Successfully uninstalled nvidia-cufft-cu12-11.4.0.6\r\n",
      "  Attempting uninstall: nvidia-cublas-cu12\r\n",
      "    Found existing installation: nvidia-cublas-cu12 12.9.0.13\r\n",
      "    Uninstalling nvidia-cublas-cu12-12.9.0.13:\r\n",
      "      Successfully uninstalled nvidia-cublas-cu12-12.9.0.13\r\n",
      "  Attempting uninstall: nvidia-cusparse-cu12\r\n",
      "    Found existing installation: nvidia-cusparse-cu12 12.5.9.5\r\n",
      "    Uninstalling nvidia-cusparse-cu12-12.5.9.5:\r\n",
      "      Successfully uninstalled nvidia-cusparse-cu12-12.5.9.5\r\n",
      "  Attempting uninstall: nvidia-cudnn-cu12\r\n",
      "    Found existing installation: nvidia-cudnn-cu12 9.3.0.75\r\n",
      "    Uninstalling nvidia-cudnn-cu12-9.3.0.75:\r\n",
      "      Successfully uninstalled nvidia-cudnn-cu12-9.3.0.75\r\n",
      "  Attempting uninstall: nvidia-cusolver-cu12\r\n",
      "    Found existing installation: nvidia-cusolver-cu12 11.7.4.40\r\n",
      "    Uninstalling nvidia-cusolver-cu12-11.7.4.40:\r\n",
      "      Successfully uninstalled nvidia-cusolver-cu12-11.7.4.40\r\n",
      "  Attempting uninstall: transformers\r\n",
      "    Found existing installation: transformers 4.51.3\r\n",
      "    Uninstalling transformers-4.51.3:\r\n",
      "      Successfully uninstalled transformers-4.51.3\r\n",
      "Successfully installed nvidia-cublas-cu12-12.4.5.8 nvidia-cudnn-cu12-9.1.0.70 nvidia-cufft-cu12-11.2.1.3 nvidia-curand-cu12-10.3.5.147 nvidia-cusolver-cu12-11.6.1.9 nvidia-cusparse-cu12-12.3.1.170 nvidia-nvjitlink-cu12-12.4.127 spacy-alignments-0.9.1 spacy-transformers-1.3.9 transformers-4.49.0\r\n"
     ]
    }
   ],
   "source": [
    "!pip install spacy-transformers\n"
   ]
  },
  {
   "cell_type": "code",
   "execution_count": 16,
   "id": "2fda057e",
   "metadata": {
    "execution": {
     "iopub.execute_input": "2025-05-27T16:23:35.936292Z",
     "iopub.status.busy": "2025-05-27T16:23:35.936010Z",
     "iopub.status.idle": "2025-05-27T16:23:47.864887Z",
     "shell.execute_reply": "2025-05-27T16:23:47.864138Z"
    },
    "papermill": {
     "duration": 11.953226,
     "end_time": "2025-05-27T16:23:47.866494",
     "exception": false,
     "start_time": "2025-05-27T16:23:35.913268",
     "status": "completed"
    },
    "tags": []
   },
   "outputs": [
    {
     "name": "stdout",
     "output_type": "stream",
     "text": [
      "\u001b[38;5;2m✔ Auto-filled config with all values\u001b[0m\r\n",
      "\u001b[38;5;2m✔ Saved config\u001b[0m\r\n",
      "config.cfg\r\n",
      "You can now add your data and train your pipeline:\r\n",
      "python -m spacy train config.cfg --paths.train ./train.spacy --paths.dev ./dev.spacy\r\n"
     ]
    }
   ],
   "source": [
    "!python -m spacy init fill-config /kaggle/input/input-275/base_config.cfg config.cfg"
   ]
  },
  {
   "cell_type": "code",
   "execution_count": 17,
   "id": "8a8b5d90",
   "metadata": {
    "execution": {
     "iopub.execute_input": "2025-05-27T16:23:47.911670Z",
     "iopub.status.busy": "2025-05-27T16:23:47.911360Z",
     "iopub.status.idle": "2025-05-27T17:24:18.237921Z",
     "shell.execute_reply": "2025-05-27T17:24:18.237111Z"
    },
    "papermill": {
     "duration": 3630.350617,
     "end_time": "2025-05-27T17:24:18.239524",
     "exception": false,
     "start_time": "2025-05-27T16:23:47.888907",
     "status": "completed"
    },
    "tags": []
   },
   "outputs": [
    {
     "name": "stdout",
     "output_type": "stream",
     "text": [
      "\u001b[38;5;2m✔ Created output directory: /kaggle/working/output\u001b[0m\r\n",
      "\u001b[38;5;4mℹ Saving to output directory: /kaggle/working/output\u001b[0m\r\n",
      "\u001b[38;5;4mℹ Using GPU: 0\u001b[0m\r\n",
      "\u001b[1m\r\n",
      "=========================== Initializing pipeline ===========================\u001b[0m\r\n",
      "[2025-05-27 16:23:54,232] [INFO] Set up nlp object from config\r\n",
      "[2025-05-27 16:23:54,251] [INFO] Pipeline: ['transformer', 'ner']\r\n",
      "[2025-05-27 16:23:54,254] [INFO] Created vocabulary\r\n",
      "[2025-05-27 16:23:54,254] [INFO] Finished initializing nlp object\r\n",
      "tokenizer_config.json: 100%|██████████████████| 25.0/25.0 [00:00<00:00, 168kB/s]\r\n",
      "config.json: 100%|█████████████████████████████| 481/481 [00:00<00:00, 2.64MB/s]\r\n",
      "vocab.json: 100%|████████████████████████████| 899k/899k [00:00<00:00, 2.07MB/s]\r\n",
      "merges.txt: 100%|████████████████████████████| 456k/456k [00:00<00:00, 1.27MB/s]\r\n",
      "tokenizer.json: 100%|██████████████████████| 1.36M/1.36M [00:00<00:00, 1.85MB/s]\r\n",
      "2025-05-27 16:24:05.606236: E external/local_xla/xla/stream_executor/cuda/cuda_fft.cc:477] Unable to register cuFFT factory: Attempting to register factory for plugin cuFFT when one has already been registered\r\n",
      "WARNING: All log messages before absl::InitializeLog() is called are written to STDERR\r\n",
      "E0000 00:00:1748363045.800815      74 cuda_dnn.cc:8310] Unable to register cuDNN factory: Attempting to register factory for plugin cuDNN when one has already been registered\r\n",
      "E0000 00:00:1748363045.855913      74 cuda_blas.cc:1418] Unable to register cuBLAS factory: Attempting to register factory for plugin cuBLAS when one has already been registered\r\n",
      "model.safetensors: 100%|██████████████████████| 499M/499M [00:02<00:00, 184MB/s]\r\n",
      "Some weights of RobertaModel were not initialized from the model checkpoint at roberta-base and are newly initialized: ['roberta.pooler.dense.bias', 'roberta.pooler.dense.weight']\r\n",
      "You should probably TRAIN this model on a down-stream task to be able to use it for predictions and inference.\r\n",
      "[2025-05-27 16:24:32,904] [INFO] Initialized pipeline components: ['transformer', 'ner']\r\n",
      "\u001b[38;5;2m✔ Initialized pipeline\u001b[0m\r\n",
      "\u001b[1m\r\n",
      "============================= Training pipeline =============================\u001b[0m\r\n",
      "\u001b[38;5;4mℹ Pipeline: ['transformer', 'ner']\u001b[0m\r\n",
      "\u001b[38;5;4mℹ Initial learn rate: 0.0\u001b[0m\r\n",
      "E    #       LOSS TRANS...  LOSS NER  ENTS_F  ENTS_P  ENTS_R  SCORE \r\n",
      "---  ------  -------------  --------  ------  ------  ------  ------\r\n",
      "  0       0        1228.73   1630.12    0.25    0.13    4.50    0.00\r\n",
      "  2     200      260517.34  64475.62   35.55   39.62   32.24    0.36\r\n",
      "  5     400       72371.19  23757.20   54.79   63.40   48.25    0.55\r\n",
      "  8     600        5189.39  20358.70   71.00   70.09   71.93    0.71\r\n",
      " 11     800        5226.47  18755.01   72.77   88.40   61.84    0.73\r\n",
      " 14    1000        3745.77  17603.31   85.21   83.63   86.84    0.85\r\n",
      " 16    1200        3584.32  15639.43   86.24   87.30   85.20    0.86\r\n",
      " 19    1400       44437.20  15420.77   86.77   85.13   88.49    0.87\r\n",
      " 22    1600       32826.24  14887.88   77.76   90.04   68.42    0.78\r\n",
      " 25    1800        4231.85  14222.39   90.83   95.19   86.84    0.91\r\n",
      " 28    2000        7169.70  13847.85   89.81   94.00   85.96    0.90\r\n",
      " 30    2200        9839.68  13173.27   92.98   95.28   90.79    0.93\r\n",
      " 33    2400       48260.51  11589.37   94.10   96.54   91.78    0.94\r\n",
      " 36    2600        5338.72  11194.13   92.25   95.32   89.36    0.92\r\n",
      " 39    2800         376.34  10538.47   94.19   97.99   90.68    0.94\r\n",
      " 42    3000        8547.54  10053.97   94.38   97.88   91.12    0.94\r\n",
      " 45    3200        3010.10   9011.76   94.93   98.70   91.45    0.95\r\n",
      " 47    3400        5356.21   7411.09   94.74   97.78   91.89    0.95\r\n",
      " 50    3600        2367.71   6539.35   94.87   98.70   91.34    0.95\r\n",
      " 53    3800        3371.87   5577.41   94.33   98.80   90.24    0.94\r\n",
      " 56    4000       27105.87   4663.86   93.16   97.94   88.82    0.93\r\n",
      " 59    4200        6921.76   3518.97   94.52   97.55   91.67    0.95\r\n",
      " 61    4400         418.00   2455.27   94.54   97.22   92.00    0.95\r\n",
      " 64    4600       25613.19   1860.15   94.81   98.70   91.23    0.95\r\n",
      " 67    4800         224.87   1131.83   94.34   97.43   91.45    0.94\r\n",
      "\u001b[38;5;2m✔ Saved pipeline to output directory\u001b[0m\r\n",
      "/kaggle/working/output/model-last\r\n"
     ]
    }
   ],
   "source": [
    "!python -m spacy train /kaggle/working/config.cfg \\\n",
    "--output /kaggle/working/output \\\n",
    "--paths.train /kaggle/working/train_data.spacy \\\n",
    "--paths.dev /kaggle/working/test_data.spacy \\\n",
    "--gpu-id 0"
   ]
  }
 ],
 "metadata": {
  "kaggle": {
   "accelerator": "gpu",
   "dataSources": [
    {
     "datasetId": 7529041,
     "sourceId": 11972762,
     "sourceType": "datasetVersion"
    }
   ],
   "dockerImageVersionId": 31041,
   "isGpuEnabled": true,
   "isInternetEnabled": true,
   "language": "python",
   "sourceType": "notebook"
  },
  "kernelspec": {
   "display_name": "Python 3",
   "language": "python",
   "name": "python3"
  },
  "language_info": {
   "codemirror_mode": {
    "name": "ipython",
    "version": 3
   },
   "file_extension": ".py",
   "mimetype": "text/x-python",
   "name": "python",
   "nbconvert_exporter": "python",
   "pygments_lexer": "ipython3",
   "version": "3.11.11"
  },
  "papermill": {
   "default_parameters": {},
   "duration": 3738.945629,
   "end_time": "2025-05-27T17:24:19.587795",
   "environment_variables": {},
   "exception": null,
   "input_path": "__notebook__.ipynb",
   "output_path": "__notebook__.ipynb",
   "parameters": {},
   "start_time": "2025-05-27T16:22:00.642166",
   "version": "2.6.0"
  }
 },
 "nbformat": 4,
 "nbformat_minor": 5
}
