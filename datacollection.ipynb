{
 "cells": [
  {
   "cell_type": "code",
   "execution_count": 1,
   "id": "0d943a58",
   "metadata": {
    "execution": {
     "iopub.execute_input": "2025-05-28T11:21:14.764388Z",
     "iopub.status.busy": "2025-05-28T11:21:14.764079Z",
     "iopub.status.idle": "2025-05-28T11:21:14.771360Z",
     "shell.execute_reply": "2025-05-28T11:21:14.770545Z"
    },
    "papermill": {
     "duration": 0.014595,
     "end_time": "2025-05-28T11:21:14.772899",
     "exception": false,
     "start_time": "2025-05-28T11:21:14.758304",
     "status": "completed"
    },
    "tags": []
   },
   "outputs": [],
   "source": [
    "import json "
   ]
  },
  {
   "cell_type": "code",
   "execution_count": 2,
   "id": "a77fc7de",
   "metadata": {
    "execution": {
     "iopub.execute_input": "2025-05-28T11:21:14.781354Z",
     "iopub.status.busy": "2025-05-28T11:21:14.781088Z",
     "iopub.status.idle": "2025-05-28T11:21:14.788309Z",
     "shell.execute_reply": "2025-05-28T11:21:14.787544Z"
    },
    "papermill": {
     "duration": 0.012915,
     "end_time": "2025-05-28T11:21:14.789662",
     "exception": false,
     "start_time": "2025-05-28T11:21:14.776747",
     "status": "completed"
    },
    "tags": []
   },
   "outputs": [],
   "source": [
    "# Preprocess the first dataset ( Entity Recognition) before merging with old dataset\n",
    "\n",
    "def preprocess_resumes(json_file_path):\n",
    "    dataset = []\n",
    "    with open(json_file_path, \"r\", encoding=\"utf-8\") as f:\n",
    "        for line in f:\n",
    "            line = line.strip()\n",
    "            if not line:\n",
    "                continue\n",
    "            try:\n",
    "                item = json.loads(line)\n",
    "                text = item.get(\"content\", \"\")\n",
    "                entities = []\n",
    "                for ann in item.get(\"annotation\", []):\n",
    "                    labels = ann.get(\"label\", [])\n",
    "                    label_value = labels[0] if labels else \"\"\n",
    "                    for point in ann.get(\"points\", []):\n",
    "                        start = point.get(\"start\")\n",
    "                        end   = point.get(\"end\")\n",
    "                        if start is not None and end is not None:\n",
    "                            entities.append([start, end, label_value])\n",
    "                dataset.append([text, {\"entities\": entities}])\n",
    "            except json.JSONDecodeError as e:\n",
    "                print(f\"JSON decoding error in line: {line[:50]}... Error: {e}\")\n",
    "            except Exception as e:\n",
    "                print(f\"Unexpected error processing line: {line[:50]}... Error: {e}\")\n",
    "    \n",
    "    return dataset\n",
    "\n"
   ]
  },
  {
   "cell_type": "code",
   "execution_count": 3,
   "id": "1232d1a0",
   "metadata": {
    "execution": {
     "iopub.execute_input": "2025-05-28T11:21:14.798102Z",
     "iopub.status.busy": "2025-05-28T11:21:14.797828Z",
     "iopub.status.idle": "2025-05-28T11:21:14.839539Z",
     "shell.execute_reply": "2025-05-28T11:21:14.838727Z"
    },
    "papermill": {
     "duration": 0.047599,
     "end_time": "2025-05-28T11:21:14.841005",
     "exception": false,
     "start_time": "2025-05-28T11:21:14.793406",
     "status": "completed"
    },
    "tags": []
   },
   "outputs": [
    {
     "name": "stdout",
     "output_type": "stream",
     "text": [
      "[\"Abhishek Jha\\nApplication Development Associate - Accenture\\n\\nBengaluru, Karnataka - Email me on Indeed: indeed.com/r/Abhishek-Jha/10e7a8cb732bc43a\\n\\n• To work for an organization which provides me the opportunity to improve my skills\\nand knowledge for my individual and company's growth in best possible ways.\\n\\nWilling to relocate to: Bangalore, Karnataka\\n\\nWORK EXPERIENCE\\n\\nApplication Development Associate\\n\\nAccenture -\\n\\nNovember 2017 to Present\\n\\nRole: Currently working on Chat-bot. Developing Backend Oracle PeopleSoft Queries\\nfor the Bot which will be triggered based on given input. Also, Training the bot for different possible\\nutterances (Both positive and negative), which will be given as\\ninput by the user.\\n\\nEDUCATION\\n\\nB.E in Information science and engineering\\n\\nB.v.b college of engineering and technology -  Hubli, Karnataka\\n\\nAugust 2013 to June 2017\\n\\n12th in Mathematics\\n\\nWoodbine modern school\\n\\nApril 2011 to March 2013\\n\\n10th\\n\\nKendriya Vidyalaya\\n\\nApril 2001 to March 2011\\n\\nSKILLS\\n\\nC (Less than 1 year), Database (Less than 1 year), Database Management (Less than 1 year),\\nDatabase Management System (Less than 1 year), Java (Less than 1 year)\\n\\nADDITIONAL INFORMATION\\n\\nTechnical Skills\\n\\nhttps://www.indeed.com/r/Abhishek-Jha/10e7a8cb732bc43a?isid=rex-download&ikw=download-top&co=IN\\n\\n\\n• Programming language: C, C++, Java\\n• Oracle PeopleSoft\\n• Internet Of Things\\n• Machine Learning\\n• Database Management System\\n• Computer Networks\\n• Operating System worked on: Linux, Windows, Mac\\n\\nNon - Technical Skills\\n\\n• Honest and Hard-Working\\n• Tolerant and Flexible to Different Situations\\n• Polite and Calm\\n• Team-Player\", {'entities': [[1295, 1621, 'Skills'], [993, 1153, 'Skills'], [939, 956, 'College Name'], [883, 904, 'College Name'], [856, 860, 'Graduation Year'], [771, 813, 'College Name'], [727, 769, 'Designation'], [407, 415, 'Companies worked at'], [372, 404, 'Designation'], [95, 145, 'Email Address'], [60, 68, 'Location'], [49, 57, 'Companies worked at'], [13, 45, 'Designation'], [0, 11, 'Name']]}]\n"
     ]
    }
   ],
   "source": [
    "json_file_path = '/kaggle/input/datacollection-resumes/Entity Recognition in Resumes.json'\n",
    "dataset1 = preprocess_resumes(json_file_path)\n",
    "\n",
    "print(dataset1[0])"
   ]
  },
  {
   "cell_type": "code",
   "execution_count": 4,
   "id": "6c2cde5b",
   "metadata": {
    "execution": {
     "iopub.execute_input": "2025-05-28T11:21:14.849275Z",
     "iopub.status.busy": "2025-05-28T11:21:14.848987Z",
     "iopub.status.idle": "2025-05-28T11:21:14.875670Z",
     "shell.execute_reply": "2025-05-28T11:21:14.874743Z"
    },
    "papermill": {
     "duration": 0.032893,
     "end_time": "2025-05-28T11:21:14.877530",
     "exception": false,
     "start_time": "2025-05-28T11:21:14.844637",
     "status": "completed"
    },
    "tags": []
   },
   "outputs": [],
   "source": [
    "#Open the second dataset \n",
    "json_file_path = '/kaggle/input/datacollection-resumes/train_data.json'\n",
    "with open(json_file_path, \"r\", encoding=\"utf-8\") as f:\n",
    "    dataset2 = json.load(f)"
   ]
  },
  {
   "cell_type": "code",
   "execution_count": 5,
   "id": "6b4175da",
   "metadata": {
    "execution": {
     "iopub.execute_input": "2025-05-28T11:21:14.886703Z",
     "iopub.status.busy": "2025-05-28T11:21:14.886377Z",
     "iopub.status.idle": "2025-05-28T11:21:14.893564Z",
     "shell.execute_reply": "2025-05-28T11:21:14.892598Z"
    },
    "papermill": {
     "duration": 0.013405,
     "end_time": "2025-05-28T11:21:14.895115",
     "exception": false,
     "start_time": "2025-05-28T11:21:14.881710",
     "status": "completed"
    },
    "tags": []
   },
   "outputs": [],
   "source": [
    "# Get inforamtion about the dataset \n",
    "def compute_metrics(documents):\n",
    "    text_lengths = []        \n",
    "    annotations_count = []  \n",
    "    annotation_labels = []\n",
    "\n",
    "    for doc in documents:\n",
    "        if not isinstance(doc, list) or len(doc) != 2:\n",
    "            print(f\"Skipping document with unexpected structure: {doc}\")\n",
    "            continue\n",
    "\n",
    "        text, ann_dict = doc[0], doc[1]\n",
    "        text_lengths.append(len(text))\n",
    "        entities = ann_dict.get(\"entities\", [])\n",
    "        annotations_count.append(len(entities))\n",
    "        \n",
    "        for entity in entities:\n",
    "            if len(entity) >= 3:\n",
    "                annotation_labels.append(entity[2])\n",
    "            else:\n",
    "                print(f\"Unexpected entity format: {entity}\")\n",
    "\n",
    "    num_docs = len(text_lengths)\n",
    "    total_annotations = sum(annotations_count)\n",
    "    avg_text_length = sum(text_lengths) / num_docs if num_docs > 0 else 0\n",
    "    avg_annotations_per_doc = total_annotations / num_docs if num_docs > 0 else 0\n",
    "\n",
    "    metrics = {\n",
    "        \"total_documents\": num_docs,\n",
    "        \"total_annotations\": total_annotations,\n",
    "        \"avg_text_length\": avg_text_length,\n",
    "        \"avg_annotations_per_doc\": avg_annotations_per_doc,\n",
    "        \"annotation_labels\": annotation_labels\n",
    "    }\n",
    "    \n",
    "    return metrics"
   ]
  },
  {
   "cell_type": "code",
   "execution_count": 6,
   "id": "0affa452",
   "metadata": {
    "execution": {
     "iopub.execute_input": "2025-05-28T11:21:14.903669Z",
     "iopub.status.busy": "2025-05-28T11:21:14.903371Z",
     "iopub.status.idle": "2025-05-28T11:21:14.908047Z",
     "shell.execute_reply": "2025-05-28T11:21:14.907347Z"
    },
    "papermill": {
     "duration": 0.010441,
     "end_time": "2025-05-28T11:21:14.909293",
     "exception": false,
     "start_time": "2025-05-28T11:21:14.898852",
     "status": "completed"
    },
    "tags": []
   },
   "outputs": [],
   "source": [
    "def print_metrics(metrics):\n",
    "    print(\"========== Basic Dataset Statistics ==========\")\n",
    "    print(f\"Total documents: {metrics.get('total_documents', 0)}\")\n",
    "    print(f\"Total annotations: {metrics.get('total_annotations', 0)}\")\n",
    "    print(f\"Average text length: {metrics.get('avg_text_length', 0):.2f} characters\")\n",
    "    print(f\"Average annotations per document: {metrics.get('avg_annotations_per_doc', 0):.2f}\")\n",
    "   "
   ]
  },
  {
   "cell_type": "code",
   "execution_count": 7,
   "id": "a0fb0dc6",
   "metadata": {
    "execution": {
     "iopub.execute_input": "2025-05-28T11:21:14.917619Z",
     "iopub.status.busy": "2025-05-28T11:21:14.917305Z",
     "iopub.status.idle": "2025-05-28T11:21:14.922798Z",
     "shell.execute_reply": "2025-05-28T11:21:14.921812Z"
    },
    "papermill": {
     "duration": 0.011172,
     "end_time": "2025-05-28T11:21:14.924220",
     "exception": false,
     "start_time": "2025-05-28T11:21:14.913048",
     "status": "completed"
    },
    "tags": []
   },
   "outputs": [
    {
     "name": "stdout",
     "output_type": "stream",
     "text": [
      "========== Basic Dataset Statistics ==========\n",
      "Total documents: 220\n",
      "Total annotations: 3558\n",
      "Average text length: 3697.14 characters\n",
      "Average annotations per document: 16.17\n"
     ]
    }
   ],
   "source": [
    "dataset1_infor = compute_metrics(dataset1)\n",
    "print_metrics(dataset1_infor)"
   ]
  },
  {
   "cell_type": "code",
   "execution_count": 8,
   "id": "9d907ee4",
   "metadata": {
    "execution": {
     "iopub.execute_input": "2025-05-28T11:21:14.932875Z",
     "iopub.status.busy": "2025-05-28T11:21:14.932566Z",
     "iopub.status.idle": "2025-05-28T11:21:14.937665Z",
     "shell.execute_reply": "2025-05-28T11:21:14.936666Z"
    },
    "papermill": {
     "duration": 0.011191,
     "end_time": "2025-05-28T11:21:14.939122",
     "exception": false,
     "start_time": "2025-05-28T11:21:14.927931",
     "status": "completed"
    },
    "tags": []
   },
   "outputs": [
    {
     "name": "stdout",
     "output_type": "stream",
     "text": [
      "========== Basic Dataset Statistics ==========\n",
      "Total documents: 200\n",
      "Total annotations: 3206\n",
      "Average text length: 3704.95 characters\n",
      "Average annotations per document: 16.03\n"
     ]
    }
   ],
   "source": [
    "dataset2_infor = compute_metrics(dataset2)\n",
    "print_metrics(dataset2_infor)"
   ]
  },
  {
   "cell_type": "code",
   "execution_count": 9,
   "id": "b91f7d45",
   "metadata": {
    "execution": {
     "iopub.execute_input": "2025-05-28T11:21:14.948083Z",
     "iopub.status.busy": "2025-05-28T11:21:14.947330Z",
     "iopub.status.idle": "2025-05-28T11:21:18.664930Z",
     "shell.execute_reply": "2025-05-28T11:21:18.664042Z"
    },
    "papermill": {
     "duration": 3.723607,
     "end_time": "2025-05-28T11:21:18.666607",
     "exception": false,
     "start_time": "2025-05-28T11:21:14.943000",
     "status": "completed"
    },
    "tags": []
   },
   "outputs": [],
   "source": [
    "from collections import Counter\n",
    "import matplotlib.pyplot as plt\n",
    "import seaborn as sns"
   ]
  },
  {
   "cell_type": "code",
   "execution_count": 10,
   "id": "571067cd",
   "metadata": {
    "execution": {
     "iopub.execute_input": "2025-05-28T11:21:18.675401Z",
     "iopub.status.busy": "2025-05-28T11:21:18.675023Z",
     "iopub.status.idle": "2025-05-28T11:21:18.773405Z",
     "shell.execute_reply": "2025-05-28T11:21:18.772303Z"
    },
    "papermill": {
     "duration": 0.104609,
     "end_time": "2025-05-28T11:21:18.775081",
     "exception": false,
     "start_time": "2025-05-28T11:21:18.670472",
     "status": "completed"
    },
    "tags": []
   },
   "outputs": [
    {
     "name": "stdout",
     "output_type": "stream",
     "text": [
      "\n",
      "---------- Distinct Annotation Labels ----------\n",
      "Skills: 472\n",
      "College Name: 330\n",
      "Graduation Year: 254\n",
      "Designation: 521\n",
      "Companies worked at: 729\n",
      "Email Address: 252\n",
      "Location: 430\n",
      "Name: 224\n",
      "Degree: 298\n",
      "Years of Experience: 44\n",
      "UNKNOWN: 2\n",
      ": 2\n"
     ]
    }
   ],
   "source": [
    "label_counter_1 = Counter(dataset1_infor['annotation_labels'])\n",
    "print(\"\\n---------- Distinct Annotation Labels ----------\")\n",
    "for label, count in label_counter_1.items():\n",
    "    print(f\"{label}: {count}\")"
   ]
  },
  {
   "cell_type": "code",
   "execution_count": 11,
   "id": "42865cc0",
   "metadata": {
    "execution": {
     "iopub.execute_input": "2025-05-28T11:21:18.784956Z",
     "iopub.status.busy": "2025-05-28T11:21:18.784651Z",
     "iopub.status.idle": "2025-05-28T11:21:18.790899Z",
     "shell.execute_reply": "2025-05-28T11:21:18.789708Z"
    },
    "papermill": {
     "duration": 0.012268,
     "end_time": "2025-05-28T11:21:18.792181",
     "exception": false,
     "start_time": "2025-05-28T11:21:18.779913",
     "status": "completed"
    },
    "tags": []
   },
   "outputs": [
    {
     "name": "stdout",
     "output_type": "stream",
     "text": [
      "\n",
      "---------- Distinct Annotation Labels ----------\n",
      "Companies worked at: 676\n",
      "Skills: 417\n",
      "Graduation Year: 222\n",
      "College Name: 291\n",
      "Degree: 268\n",
      "Designation: 473\n",
      "Email Address: 229\n",
      "Location: 381\n",
      "Name: 205\n",
      "Years of Experience: 42\n",
      "UNKNOWN: 2\n"
     ]
    }
   ],
   "source": [
    "label_counter_2 = Counter(dataset2_infor['annotation_labels'])\n",
    "print(\"\\n---------- Distinct Annotation Labels ----------\")\n",
    "for label, count in label_counter_2.items():\n",
    "    print(f\"{label}: {count}\")"
   ]
  },
  {
   "cell_type": "code",
   "execution_count": 12,
   "id": "b9aa3449",
   "metadata": {
    "execution": {
     "iopub.execute_input": "2025-05-28T11:21:18.803025Z",
     "iopub.status.busy": "2025-05-28T11:21:18.802714Z",
     "iopub.status.idle": "2025-05-28T11:21:18.811314Z",
     "shell.execute_reply": "2025-05-28T11:21:18.810460Z"
    },
    "papermill": {
     "duration": 0.014795,
     "end_time": "2025-05-28T11:21:18.812684",
     "exception": false,
     "start_time": "2025-05-28T11:21:18.797889",
     "status": "completed"
    },
    "tags": []
   },
   "outputs": [
    {
     "name": "stdout",
     "output_type": "stream",
     "text": [
      "No duplicate resumes found by text match.\n"
     ]
    }
   ],
   "source": [
    "def find_duplicate_resumes_by_text(dataset1, dataset2):\n",
    "    duplicates = []\n",
    "    texts1 = set()\n",
    "    for doc in dataset1:\n",
    "        if isinstance(doc, list) and len(doc) == 2:\n",
    "            text = doc[0].strip()\n",
    "            if text:\n",
    "                texts1.add(text)\n",
    "    for doc in dataset2:\n",
    "        if isinstance(doc, list) and len(doc) == 2:\n",
    "            text = doc[0].strip()\n",
    "            if text in texts1:\n",
    "                duplicates.append(text)\n",
    "    \n",
    "    return duplicates\n",
    "duplicate_texts = find_duplicate_resumes_by_text(dataset1, dataset2)\n",
    "if duplicate_texts:\n",
    "    print(\"Duplicate resumes (by text) found:\")\n",
    "    for idx, dup in enumerate(duplicate_texts, 1):\n",
    "        print(f\"{idx}. {dup[:100]}...\")\n",
    "else:\n",
    "    print(\"No duplicate resumes found by text match.\")\n"
   ]
  },
  {
   "cell_type": "code",
   "execution_count": 13,
   "id": "06e8235d",
   "metadata": {
    "execution": {
     "iopub.execute_input": "2025-05-28T11:21:18.821902Z",
     "iopub.status.busy": "2025-05-28T11:21:18.821595Z",
     "iopub.status.idle": "2025-05-28T11:21:18.877849Z",
     "shell.execute_reply": "2025-05-28T11:21:18.876901Z"
    },
    "papermill": {
     "duration": 0.062422,
     "end_time": "2025-05-28T11:21:18.879204",
     "exception": false,
     "start_time": "2025-05-28T11:21:18.816782",
     "status": "completed"
    },
    "tags": []
   },
   "outputs": [
    {
     "name": "stdout",
     "output_type": "stream",
     "text": [
      "Merged dataset has been saved to 'merged_dataset.json'\n"
     ]
    }
   ],
   "source": [
    "merged_dataset = dataset1 + dataset2\n",
    "output_file = \"merged_dataset.json\"    \n",
    "    # Write the merged dataset to a JSON file.\n",
    "with open(output_file, \"w\", encoding=\"utf-8\") as f:\n",
    "    json.dump(merged_dataset, f, ensure_ascii=False, indent=4)\n",
    "    \n",
    "print(f\"Merged dataset has been saved to '{output_file}'\")"
   ]
  },
  {
   "cell_type": "code",
   "execution_count": 14,
   "id": "3dfb40b4",
   "metadata": {
    "execution": {
     "iopub.execute_input": "2025-05-28T11:21:18.888371Z",
     "iopub.status.busy": "2025-05-28T11:21:18.888084Z",
     "iopub.status.idle": "2025-05-28T11:21:18.892798Z",
     "shell.execute_reply": "2025-05-28T11:21:18.891706Z"
    },
    "papermill": {
     "duration": 0.010993,
     "end_time": "2025-05-28T11:21:18.894230",
     "exception": false,
     "start_time": "2025-05-28T11:21:18.883237",
     "status": "completed"
    },
    "tags": []
   },
   "outputs": [],
   "source": [
    "merged_counter = label_counter_1 + label_counter_2"
   ]
  },
  {
   "cell_type": "code",
   "execution_count": 15,
   "id": "bd5cabbe",
   "metadata": {
    "execution": {
     "iopub.execute_input": "2025-05-28T11:21:18.903444Z",
     "iopub.status.busy": "2025-05-28T11:21:18.903107Z",
     "iopub.status.idle": "2025-05-28T11:21:19.278045Z",
     "shell.execute_reply": "2025-05-28T11:21:19.277126Z"
    },
    "papermill": {
     "duration": 0.381632,
     "end_time": "2025-05-28T11:21:19.279876",
     "exception": false,
     "start_time": "2025-05-28T11:21:18.898244",
     "status": "completed"
    },
    "tags": []
   },
   "outputs": [
    {
     "name": "stderr",
     "output_type": "stream",
     "text": [
      "/usr/local/lib/python3.11/dist-packages/seaborn/_oldcore.py:1765: FutureWarning: unique with argument that is not not a Series, Index, ExtensionArray, or np.ndarray is deprecated and will raise in a future version.\n",
      "  order = pd.unique(vector)\n"
     ]
    },
    {
     "data": {
      "image/png": "[encoded data removed]",
      "text/plain": [
       "<Figure size 1000x600 with 1 Axes>"
      ]
     },
     "metadata": {},
     "output_type": "display_data"
    }
   ],
   "source": [
    "plt.figure(figsize=(10,6))\n",
    "sns.barplot(x=list(merged_counter.keys()), y=list(merged_counter.values()), palette=\"viridis\")\n",
    "plt.xlabel(\"Annotation Label\")\n",
    "plt.ylabel(\"Frequency\")\n",
    "plt.title(\"Frequency Distribution of Annotation Labels\")\n",
    "plt.xticks(rotation=45, ha='right')\n",
    "plt.tight_layout()\n",
    "plt.show()"
   ]
  },
  {
   "cell_type": "code",
   "execution_count": 16,
   "id": "f2f9cbfa",
   "metadata": {
    "execution": {
     "iopub.execute_input": "2025-05-28T11:21:19.292167Z",
     "iopub.status.busy": "2025-05-28T11:21:19.291817Z",
     "iopub.status.idle": "2025-05-28T11:21:19.374216Z",
     "shell.execute_reply": "2025-05-28T11:21:19.373239Z"
    },
    "papermill": {
     "duration": 0.090114,
     "end_time": "2025-05-28T11:21:19.375763",
     "exception": false,
     "start_time": "2025-05-28T11:21:19.285649",
     "status": "completed"
    },
    "tags": []
   },
   "outputs": [
    {
     "name": "stdout",
     "output_type": "stream",
     "text": [
      "Saved filtered dataset to merged_dataset_cleaned.json\n"
     ]
    }
   ],
   "source": [
    "def remove_unknown_annotations(input_file, output_file):\n",
    "\n",
    "    with open(input_file, \"r\", encoding=\"utf-8\") as f:\n",
    "        dataset = json.load(f)\n",
    "\n",
    "    for doc in dataset:\n",
    "        if isinstance(doc, list) and len(doc) == 2:\n",
    "            ann_dict = doc[1]\n",
    "            entities = ann_dict.get(\"entities\", [])\n",
    "            filtered_entities = [entity for entity in entities if len(entity) >= 3 and entity[2] != \"UNKNOWN\"]\n",
    "            ann_dict[\"entities\"] = filtered_entities\n",
    "    \n",
    "    with open(output_file, \"w\", encoding=\"utf-8\") as f:\n",
    "        json.dump(dataset, f, ensure_ascii=False, indent=4)\n",
    "    \n",
    "    print(f\"Saved filtered dataset to {output_file}\")\n",
    "\n",
    "input_json_file = \"merged_dataset.json\"  \n",
    "output_json_file = \"merged_dataset_cleaned.json\"\n",
    "\n",
    "remove_unknown_annotations(input_json_file, output_json_file)\n"
   ]
  },
  {
   "cell_type": "code",
   "execution_count": 17,
   "id": "821423ac",
   "metadata": {
    "execution": {
     "iopub.execute_input": "2025-05-28T11:21:19.387251Z",
     "iopub.status.busy": "2025-05-28T11:21:19.386982Z",
     "iopub.status.idle": "2025-05-28T11:21:19.525066Z",
     "shell.execute_reply": "2025-05-28T11:21:19.523972Z"
    },
    "papermill": {
     "duration": 0.145429,
     "end_time": "2025-05-28T11:21:19.526367",
     "exception": true,
     "start_time": "2025-05-28T11:21:19.380938",
     "status": "failed"
    },
    "tags": []
   },
   "outputs": [
    {
     "ename": "NameError",
     "evalue": "name 'text_lengths' is not defined",
     "output_type": "error",
     "traceback": [
      "\u001b[0;31m---------------------------------------------------------------------------\u001b[0m",
      "\u001b[0;31mNameError\u001b[0m                                 Traceback (most recent call last)",
      "\u001b[0;32m/tmp/ipykernel_13/45112660.py\u001b[0m in \u001b[0;36m<cell line: 0>\u001b[0;34m()\u001b[0m\n\u001b[1;32m      1\u001b[0m \u001b[0mplt\u001b[0m\u001b[0;34m.\u001b[0m\u001b[0mfigure\u001b[0m\u001b[0;34m(\u001b[0m\u001b[0mfigsize\u001b[0m\u001b[0;34m=\u001b[0m\u001b[0;34m(\u001b[0m\u001b[0;36m10\u001b[0m\u001b[0;34m,\u001b[0m\u001b[0;36m6\u001b[0m\u001b[0;34m)\u001b[0m\u001b[0;34m)\u001b[0m\u001b[0;34m\u001b[0m\u001b[0;34m\u001b[0m\u001b[0m\n\u001b[0;32m----> 2\u001b[0;31m \u001b[0msns\u001b[0m\u001b[0;34m.\u001b[0m\u001b[0mhistplot\u001b[0m\u001b[0;34m(\u001b[0m\u001b[0mtext_lengths\u001b[0m\u001b[0;34m,\u001b[0m \u001b[0mbins\u001b[0m\u001b[0;34m=\u001b[0m\u001b[0;36m30\u001b[0m\u001b[0;34m,\u001b[0m \u001b[0mkde\u001b[0m\u001b[0;34m=\u001b[0m\u001b[0;32mTrue\u001b[0m\u001b[0;34m,\u001b[0m \u001b[0mcolor\u001b[0m\u001b[0;34m=\u001b[0m\u001b[0;34m\"steelblue\"\u001b[0m\u001b[0;34m)\u001b[0m\u001b[0;34m\u001b[0m\u001b[0;34m\u001b[0m\u001b[0m\n\u001b[0m\u001b[1;32m      3\u001b[0m \u001b[0mplt\u001b[0m\u001b[0;34m.\u001b[0m\u001b[0mxlabel\u001b[0m\u001b[0;34m(\u001b[0m\u001b[0;34m\"Text Length (Number of Characters)\"\u001b[0m\u001b[0;34m)\u001b[0m\u001b[0;34m\u001b[0m\u001b[0;34m\u001b[0m\u001b[0m\n\u001b[1;32m      4\u001b[0m \u001b[0mplt\u001b[0m\u001b[0;34m.\u001b[0m\u001b[0mylabel\u001b[0m\u001b[0;34m(\u001b[0m\u001b[0;34m\"Number of Documents\"\u001b[0m\u001b[0;34m)\u001b[0m\u001b[0;34m\u001b[0m\u001b[0;34m\u001b[0m\u001b[0m\n\u001b[1;32m      5\u001b[0m \u001b[0mplt\u001b[0m\u001b[0;34m.\u001b[0m\u001b[0mtitle\u001b[0m\u001b[0;34m(\u001b[0m\u001b[0;34m\"Distribution of Text Length in Documents\"\u001b[0m\u001b[0;34m)\u001b[0m\u001b[0;34m\u001b[0m\u001b[0;34m\u001b[0m\u001b[0m\n",
      "\u001b[0;31mNameError\u001b[0m: name 'text_lengths' is not defined"
     ]
    },
    {
     "data": {
      "text/plain": [
       "<Figure size 1000x600 with 0 Axes>"
      ]
     },
     "metadata": {},
     "output_type": "display_data"
    }
   ],
   "source": [
    "plt.figure(figsize=(10,6))\n",
    "sns.histplot(text_lengths, bins=30, kde=True, color=\"steelblue\")\n",
    "plt.xlabel(\"Text Length (Number of Characters)\")\n",
    "plt.ylabel(\"Number of Documents\")\n",
    "plt.title(\"Distribution of Text Length in Documents\")\n",
    "plt.tight_layout()\n",
    "plt.show()"
   ]
  },
  {
   "cell_type": "code",
   "execution_count": null,
   "id": "4e7d8824",
   "metadata": {
    "execution": {
     "iopub.execute_input": "2025-05-28T11:10:15.044158Z",
     "iopub.status.busy": "2025-05-28T11:10:15.043826Z",
     "iopub.status.idle": "2025-05-28T11:10:15.383857Z",
     "shell.execute_reply": "2025-05-28T11:10:15.382835Z",
     "shell.execute_reply.started": "2025-05-28T11:10:15.044104Z"
    },
    "papermill": {
     "duration": null,
     "end_time": null,
     "exception": null,
     "start_time": null,
     "status": "pending"
    },
    "tags": []
   },
   "outputs": [],
   "source": [
    "plt.figure(figsize=(10,6))\n",
    "sns.histplot(annotations_count, bins=range(0, max(annotations_count)+2), color='salmon', edgecolor='black')\n",
    "plt.xlabel(\"Number of Annotations per Document\")\n",
    "plt.ylabel(\"Number of Documents\")\n",
    "plt.title(\"Distribution of Annotations per Document\")\n",
    "plt.tight_layout()\n",
    "plt.show()"
   ]
  }
 ],
 "metadata": {
  "kaggle": {
   "accelerator": "none",
   "dataSources": [
    {
     "datasetId": 7535750,
     "sourceId": 11982034,
     "sourceType": "datasetVersion"
    }
   ],
   "dockerImageVersionId": 31040,
   "isGpuEnabled": false,
   "isInternetEnabled": true,
   "language": "python",
   "sourceType": "notebook"
  },
  "kernelspec": {
   "display_name": "Python 3",
   "language": "python",
   "name": "python3"
  },
  "language_info": {
   "codemirror_mode": {
    "name": "ipython",
    "version": 3
   },
   "file_extension": ".py",
   "mimetype": "text/x-python",
   "name": "python",
   "nbconvert_exporter": "python",
   "pygments_lexer": "ipython3",
   "version": "3.11.11"
  },
  "papermill": {
   "default_parameters": {},
   "duration": 10.243978,
   "end_time": "2025-05-28T11:21:20.251708",
   "environment_variables": {},
   "exception": true,
   "input_path": "__notebook__.ipynb",
   "output_path": "__notebook__.ipynb",
   "parameters": {},
   "start_time": "2025-05-28T11:21:10.007730",
   "version": "2.6.0"
  }
 },
 "nbformat": 4,
 "nbformat_minor": 5
}
